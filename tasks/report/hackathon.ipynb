{
 "cells": [
  {
   "cell_type": "markdown",
   "metadata": {},
   "source": [
    "On the importance of operational significance: the case of PIF\n",
    "==============================================================\n",
    "\n",
    "**Author:** Luigi D. C. Soares\n",
    "\n"
   ]
  },
  {
   "cell_type": "markdown",
   "metadata": {},
   "source": [
    "## Required Libraries\n",
    "\n"
   ]
  },
  {
   "cell_type": "code",
   "execution_count": 18,
   "metadata": {},
   "outputs": [],
   "source": [
    "import itertools\n",
    "import matplotlib.pyplot as plt\n",
    "import matplotlib.colors as colors\n",
    "import numpy as np\n",
    "import pandas as pd\n",
    "import seaborn as sns\n",
    "\n",
    "from piflib import pif_calculator as pif\n",
    "\n",
    "import sys\n",
    "sys.path.append('/home/luigi/workspace/topete/pif')\n",
    "\n",
    "import qif\n",
    "import utils"
   ]
  },
  {
   "cell_type": "markdown",
   "metadata": {},
   "source": [
    "## The Hackathon Dataset\n",
    "\n"
   ]
  },
  {
   "cell_type": "markdown",
   "metadata": {},
   "source": [
    "### Building the Dataset\n",
    "\n"
   ]
  },
  {
   "cell_type": "code",
   "execution_count": 19,
   "metadata": {},
   "outputs": [
    {
     "data": {
      "text/html": [
       "<div>\n",
       "<style scoped>\n",
       "    .dataframe tbody tr th:only-of-type {\n",
       "        vertical-align: middle;\n",
       "    }\n",
       "\n",
       "    .dataframe tbody tr th {\n",
       "        vertical-align: top;\n",
       "    }\n",
       "\n",
       "    .dataframe thead th {\n",
       "        text-align: right;\n",
       "    }\n",
       "</style>\n",
       "<table border=\"1\" class=\"dataframe\">\n",
       "  <thead>\n",
       "    <tr style=\"text-align: right;\">\n",
       "      <th></th>\n",
       "      <th>gender</th>\n",
       "      <th>AGE</th>\n",
       "      <th>POSTCODE</th>\n",
       "      <th>blood_group</th>\n",
       "      <th>eye_color</th>\n",
       "      <th>job</th>\n",
       "    </tr>\n",
       "  </thead>\n",
       "  <tbody>\n",
       "    <tr>\n",
       "      <th>0</th>\n",
       "      <td>F</td>\n",
       "      <td>99</td>\n",
       "      <td>2649</td>\n",
       "      <td>B-</td>\n",
       "      <td>Brown</td>\n",
       "      <td>Psychologist, counselling</td>\n",
       "    </tr>\n",
       "    <tr>\n",
       "      <th>1</th>\n",
       "      <td>M</td>\n",
       "      <td>108</td>\n",
       "      <td>1780</td>\n",
       "      <td>A-</td>\n",
       "      <td>Hazel</td>\n",
       "      <td>Personnel officer</td>\n",
       "    </tr>\n",
       "    <tr>\n",
       "      <th>2</th>\n",
       "      <td>M</td>\n",
       "      <td>59</td>\n",
       "      <td>2940</td>\n",
       "      <td>B+</td>\n",
       "      <td>Hazel</td>\n",
       "      <td>Tourism officer</td>\n",
       "    </tr>\n",
       "    <tr>\n",
       "      <th>38459</th>\n",
       "      <td>F</td>\n",
       "      <td>19</td>\n",
       "      <td>2848</td>\n",
       "      <td>AB-</td>\n",
       "      <td>Brown</td>\n",
       "      <td>Student</td>\n",
       "    </tr>\n",
       "    <tr>\n",
       "      <th>38460</th>\n",
       "      <td>M</td>\n",
       "      <td>60</td>\n",
       "      <td>2630</td>\n",
       "      <td>A-</td>\n",
       "      <td>Brown</td>\n",
       "      <td>Data scientist</td>\n",
       "    </tr>\n",
       "    <tr>\n",
       "      <th>38461</th>\n",
       "      <td>F</td>\n",
       "      <td>58</td>\n",
       "      <td>2017</td>\n",
       "      <td>O-</td>\n",
       "      <td>Green</td>\n",
       "      <td>Dramatherapist</td>\n",
       "    </tr>\n",
       "  </tbody>\n",
       "</table>\n",
       "</div>"
      ],
      "text/plain": [
       "      gender  AGE  POSTCODE blood_group eye_color                        job\n",
       "0          F   99      2649          B-     Brown  Psychologist, counselling\n",
       "1          M  108      1780          A-     Hazel          Personnel officer\n",
       "2          M   59      2940          B+     Hazel            Tourism officer\n",
       "38459      F   19      2848         AB-     Brown                    Student\n",
       "38460      M   60      2630          A-     Brown             Data scientist\n",
       "38461      F   58      2017          O-     Green             Dramatherapist"
      ]
     },
     "execution_count": 19,
     "metadata": {},
     "output_type": "execute_result"
    }
   ],
   "source": [
    "features = ['gender', 'AGE', 'POSTCODE', 'blood_group', 'eye_color', 'job']\n",
    "\n",
    "df = pd.read_csv('hackathon.csv')[features].fillna('Unemployed')\n",
    "pd.concat([df.head(3), df.tail(3)])"
   ]
  },
  {
   "cell_type": "code",
   "execution_count": 20,
   "metadata": {},
   "outputs": [
    {
     "data": {
      "text/plain": [
       "AGE  POSTCODE  blood_group  eye_color  job                                   \n",
       "7    2920      AB-          Brown      Unemployed                                3\n",
       "     2619      A+           Blue       Unemployed                                3\n",
       "16   2619      A+           Hazel      Unemployed                                3\n",
       "21   2920      A-           Brown      Student                                   2\n",
       "4    2920      B+           Blue       Unemployed                                2\n",
       "                                                                                ..\n",
       "39   1811      B-           Hazel      Civil engineer, consulting                1\n",
       "     1896      B-           Grey       Facilities manager                        1\n",
       "     1936      O-           Blue       Community pharmacist                      1\n",
       "     2001      O+           Blue       Operational investment banker             1\n",
       "116  6053      A+           Hazel      Teacher, English as a foreign language    1\n",
       "Length: 38386, dtype: int64"
      ]
     },
     "execution_count": 20,
     "metadata": {},
     "output_type": "execute_result"
    }
   ],
   "source": [
    "df.value_counts(subset=features[1:])"
   ]
  },
  {
   "cell_type": "code",
   "execution_count": 21,
   "metadata": {},
   "outputs": [
    {
     "data": {
      "text/html": [
       "<div>\n",
       "<style scoped>\n",
       "    .dataframe tbody tr th:only-of-type {\n",
       "        vertical-align: middle;\n",
       "    }\n",
       "\n",
       "    .dataframe tbody tr th {\n",
       "        vertical-align: top;\n",
       "    }\n",
       "\n",
       "    .dataframe thead th {\n",
       "        text-align: right;\n",
       "    }\n",
       "</style>\n",
       "<table border=\"1\" class=\"dataframe\">\n",
       "  <thead>\n",
       "    <tr style=\"text-align: right;\">\n",
       "      <th></th>\n",
       "      <th>gender</th>\n",
       "      <th>AGE</th>\n",
       "      <th>POSTCODE</th>\n",
       "      <th>blood_group</th>\n",
       "      <th>eye_color</th>\n",
       "      <th>job</th>\n",
       "    </tr>\n",
       "  </thead>\n",
       "  <tbody>\n",
       "    <tr>\n",
       "      <th>9186</th>\n",
       "      <td>M</td>\n",
       "      <td>7</td>\n",
       "      <td>2920</td>\n",
       "      <td>AB-</td>\n",
       "      <td>Brown</td>\n",
       "      <td>Unemployed</td>\n",
       "    </tr>\n",
       "    <tr>\n",
       "      <th>17129</th>\n",
       "      <td>M</td>\n",
       "      <td>7</td>\n",
       "      <td>2920</td>\n",
       "      <td>AB-</td>\n",
       "      <td>Brown</td>\n",
       "      <td>Unemployed</td>\n",
       "    </tr>\n",
       "    <tr>\n",
       "      <th>28491</th>\n",
       "      <td>M</td>\n",
       "      <td>7</td>\n",
       "      <td>2920</td>\n",
       "      <td>AB-</td>\n",
       "      <td>Brown</td>\n",
       "      <td>Unemployed</td>\n",
       "    </tr>\n",
       "  </tbody>\n",
       "</table>\n",
       "</div>"
      ],
      "text/plain": [
       "      gender  AGE  POSTCODE blood_group eye_color         job\n",
       "9186       M    7      2920         AB-     Brown  Unemployed\n",
       "17129      M    7      2920         AB-     Brown  Unemployed\n",
       "28491      M    7      2920         AB-     Brown  Unemployed"
      ]
     },
     "execution_count": 21,
     "metadata": {},
     "output_type": "execute_result"
    }
   ],
   "source": [
    "df.query('AGE == 7 & POSTCODE == 2920 & blood_group == \"AB-\" & eye_color == \"Brown\" & job == \"Unemployed\"')"
   ]
  },
  {
   "cell_type": "markdown",
   "metadata": {},
   "source": [
    "### Base Measure: CIG (KL divergence)\n",
    "\n"
   ]
  },
  {
   "cell_type": "code",
   "execution_count": 22,
   "metadata": {},
   "outputs": [
    {
     "data": {
      "text/html": [
       "<div>\n",
       "<style scoped>\n",
       "    .dataframe tbody tr th:only-of-type {\n",
       "        vertical-align: middle;\n",
       "    }\n",
       "\n",
       "    .dataframe tbody tr th {\n",
       "        vertical-align: top;\n",
       "    }\n",
       "\n",
       "    .dataframe thead th {\n",
       "        text-align: right;\n",
       "    }\n",
       "</style>\n",
       "<table border=\"1\" class=\"dataframe\">\n",
       "  <thead>\n",
       "    <tr style=\"text-align: right;\">\n",
       "      <th></th>\n",
       "      <th>gender</th>\n",
       "      <th>AGE</th>\n",
       "      <th>POSTCODE</th>\n",
       "      <th>blood_group</th>\n",
       "      <th>eye_color</th>\n",
       "      <th>job</th>\n",
       "    </tr>\n",
       "  </thead>\n",
       "  <tbody>\n",
       "    <tr>\n",
       "      <th>0</th>\n",
       "      <td>0.950303</td>\n",
       "      <td>6.895756</td>\n",
       "      <td>8.788203</td>\n",
       "      <td>3.003530</td>\n",
       "      <td>2.330845</td>\n",
       "      <td>9.739293</td>\n",
       "    </tr>\n",
       "    <tr>\n",
       "      <th>1</th>\n",
       "      <td>1.051470</td>\n",
       "      <td>6.969051</td>\n",
       "      <td>14.231146</td>\n",
       "      <td>2.991846</td>\n",
       "      <td>2.311166</td>\n",
       "      <td>9.838829</td>\n",
       "    </tr>\n",
       "    <tr>\n",
       "      <th>2</th>\n",
       "      <td>1.051470</td>\n",
       "      <td>6.983219</td>\n",
       "      <td>8.838829</td>\n",
       "      <td>2.977890</td>\n",
       "      <td>2.311166</td>\n",
       "      <td>9.707584</td>\n",
       "    </tr>\n",
       "    <tr>\n",
       "      <th>38459</th>\n",
       "      <td>0.950303</td>\n",
       "      <td>6.945744</td>\n",
       "      <td>7.694697</td>\n",
       "      <td>3.015613</td>\n",
       "      <td>2.330845</td>\n",
       "      <td>4.931938</td>\n",
       "    </tr>\n",
       "    <tr>\n",
       "      <th>38460</th>\n",
       "      <td>1.051470</td>\n",
       "      <td>6.918263</td>\n",
       "      <td>8.631233</td>\n",
       "      <td>2.991846</td>\n",
       "      <td>2.330845</td>\n",
       "      <td>9.707584</td>\n",
       "    </tr>\n",
       "    <tr>\n",
       "      <th>38461</th>\n",
       "      <td>0.950303</td>\n",
       "      <td>6.983219</td>\n",
       "      <td>12.231146</td>\n",
       "      <td>3.011675</td>\n",
       "      <td>2.310979</td>\n",
       "      <td>9.476259</td>\n",
       "    </tr>\n",
       "  </tbody>\n",
       "</table>\n",
       "</div>"
      ],
      "text/plain": [
       "         gender       AGE   POSTCODE  blood_group  eye_color       job\n",
       "0      0.950303  6.895756   8.788203     3.003530   2.330845  9.739293\n",
       "1      1.051470  6.969051  14.231146     2.991846   2.311166  9.838829\n",
       "2      1.051470  6.983219   8.838829     2.977890   2.311166  9.707584\n",
       "38459  0.950303  6.945744   7.694697     3.015613   2.330845  4.931938\n",
       "38460  1.051470  6.918263   8.631233     2.991846   2.330845  9.707584\n",
       "38461  0.950303  6.983219  12.231146     3.011675   2.310979  9.476259"
      ]
     },
     "execution_count": 22,
     "metadata": {},
     "output_type": "execute_result"
    }
   ],
   "source": [
    "cigs = pif.compute_cigs(df)\n",
    "pd.concat([cigs.head(3), cigs.tail(3)])"
   ]
  },
  {
   "cell_type": "code",
   "execution_count": 23,
   "metadata": {},
   "outputs": [
    {
     "data": {
      "text/plain": [
       "<AxesSubplot: >"
      ]
     },
     "execution_count": 23,
     "metadata": {},
     "output_type": "execute_result"
    },
    {
     "data": {
      "image/png": "[encoded data removed]",
      "text/plain": [
       "<Figure size 432x288 with 2 Axes>"
      ]
     },
     "metadata": {
      "needs_background": "light"
     },
     "output_type": "display_data"
    }
   ],
   "source": [
    "color_map = colors.ListedColormap(\n",
    "    sns.color_palette('RdYlGn', 256).as_hex()[::-1]\n",
    ")\n",
    "\n",
    "sns.heatmap(cigs, cmap = color_map)"
   ]
  },
  {
   "cell_type": "markdown",
   "metadata": {},
   "source": [
    "### Individual Attack: CIG vs Bayes\n",
    "\n"
   ]
  },
  {
   "cell_type": "code",
   "execution_count": 24,
   "metadata": {},
   "outputs": [],
   "source": [
    "def prepare_qif(pi, C):\n",
    "    '''\n",
    "    Transform the prior pi and channel C into the format\n",
    "    required by Kostas' QIF library (i.e. without keys)\n",
    "    '''\n",
    "    return list(pi.values()), C.values\n",
    "\n",
    "\n",
    "def bayes_cells(df, channel, prior):\n",
    "    bayes_dfs = []\n",
    "    for secret in df.columns:\n",
    "        qids = [feature for feature in df.columns if feature != secret]\n",
    "        C = channel[secret]\n",
    "\n",
    "        Y = C.columns.tolist()\n",
    "        pi, C = prepare_qif(prior[secret], C)\n",
    "\n",
    "        inner_vuln = {}\n",
    "\n",
    "        # We assume that there's a direct map between the index of the output\n",
    "        # y in Y and the index of the posterior computed by the qif library.\n",
    "        # (is this really guaranteed???)\n",
    "        for i, y in enumerate(Y):\n",
    "            # Use prior Bayes vuln since we're computing the Bayes of each\n",
    "            # inner distribution, not the average on the inners.\n",
    "            delta_i = qif.channel.posterior(C, pi, i)\n",
    "            inner_vuln[y] = qif.measure.bayes_vuln.prior(delta_i)\n",
    "\n",
    "        column = []\n",
    "        for record in df.to_dict('records'):\n",
    "            y = tuple(record[feature] for feature in qids)\n",
    "            column.append(inner_vuln[y])\n",
    "\n",
    "        bayes_dfs.append(pd.DataFrame({secret: column}))\n",
    "\n",
    "    return pd.concat(bayes_dfs, axis=1)"
   ]
  },
  {
   "cell_type": "code",
   "execution_count": 25,
   "metadata": {},
   "outputs": [],
   "source": [
    "channel = {}\n",
    "prior = {}\n",
    "\n",
    "for secret in df.columns:\n",
    "    pi, C = utils.channel.from_data(df, secret)\n",
    "    channel[secret] = C\n",
    "    prior[secret] = pi"
   ]
  },
  {
   "cell_type": "code",
   "execution_count": 26,
   "metadata": {},
   "outputs": [
    {
     "data": {
      "text/plain": [
       "<AxesSubplot: >"
      ]
     },
     "execution_count": 26,
     "metadata": {},
     "output_type": "execute_result"
    },
    {
     "data": {
      "image/png": "[encoded data removed]",
      "text/plain": [
       "<Figure size 432x288 with 2 Axes>"
      ]
     },
     "metadata": {
      "needs_background": "light"
     },
     "output_type": "display_data"
    }
   ],
   "source": [
    "bayes = bayes_cells(df, channel, prior)\n",
    "\n",
    "color_map = colors.ListedColormap(\n",
    "    sns.color_palette('RdYlGn', 256).as_hex()[::-1])\n",
    "\n",
    "sns.heatmap(bayes, cmap = color_map)"
   ]
  },
  {
   "cell_type": "markdown",
   "metadata": {},
   "source": [
    "### Attribute Inference: FIG vs Bayes\n",
    "\n"
   ]
  },
  {
   "cell_type": "code",
   "execution_count": 27,
   "metadata": {},
   "outputs": [
    {
     "data": {
      "text/plain": [
       "gender          38342.403804\n",
       "AGE            262612.319072\n",
       "POSTCODE       386886.543373\n",
       "blood_group    114904.504519\n",
       "eye_color       88981.301492\n",
       "job            319484.856776\n",
       "dtype: float64"
      ]
     },
     "execution_count": 27,
     "metadata": {},
     "output_type": "execute_result"
    }
   ],
   "source": [
    "figs = cigs.sum(axis = 0)\n",
    "figs"
   ]
  },
  {
   "cell_type": "markdown",
   "metadata": {},
   "source": [
    "    ['gender', 'AGE', 'POSTCODE', 'blood_group', 'eye_color', 'job']\n",
    "\n"
   ]
  },
  {
   "cell_type": "code",
   "execution_count": 29,
   "metadata": {},
   "outputs": [
    {
     "data": {
      "image/png": "[encoded data removed]",
      "text/plain": [
       "<Figure size 432x288 with 1 Axes>"
      ]
     },
     "metadata": {
      "needs_background": "light"
     },
     "output_type": "display_data"
    }
   ],
   "source": [
    "x = df.columns\n",
    "y = [figs[secret] for secret in df.columns]\n",
    "\n",
    "fig, ax = plt.subplots()\n",
    "ax.bar(x, y, width = 1, edgecolor = 'white', linewidth = 0.7)\n",
    "\n",
    "plt.xticks(rotation = 45)\n",
    "plt.show()"
   ]
  },
  {
   "cell_type": "code",
   "execution_count": 30,
   "metadata": {},
   "outputs": [
    {
     "data": {
      "image/png": "[encoded data removed]",
      "text/plain": [
       "<Figure size 432x288 with 1 Axes>"
      ]
     },
     "metadata": {
      "needs_background": "light"
     },
     "output_type": "display_data"
    }
   ],
   "source": [
    "post_bayes = lambda secret: qif.measure.bayes_vuln.posterior(\n",
    "    *prepare_qif(prior[secret], channel[secret]))\n",
    "\n",
    "x = df.columns\n",
    "y = [post_bayes(secret) for secret in df.columns]\n",
    "\n",
    "fig, ax = plt.subplots()\n",
    "ax.bar(x, y, width = 1, edgecolor = 'white', linewidth = 0.7)\n",
    "\n",
    "plt.xticks(rotation = 45)\n",
    "plt.show()"
   ]
  },
  {
   "cell_type": "markdown",
   "metadata": {},
   "source": [
    "### Alternative Measure: CSF\n",
    "\n"
   ]
  },
  {
   "cell_type": "code",
   "execution_count": 31,
   "metadata": {},
   "outputs": [
    {
     "data": {
      "text/html": [
       "<div>\n",
       "<style scoped>\n",
       "    .dataframe tbody tr th:only-of-type {\n",
       "        vertical-align: middle;\n",
       "    }\n",
       "\n",
       "    .dataframe tbody tr th {\n",
       "        vertical-align: top;\n",
       "    }\n",
       "\n",
       "    .dataframe thead th {\n",
       "        text-align: right;\n",
       "    }\n",
       "</style>\n",
       "<table border=\"1\" class=\"dataframe\">\n",
       "  <thead>\n",
       "    <tr style=\"text-align: right;\">\n",
       "      <th></th>\n",
       "      <th>gender</th>\n",
       "      <th>AGE</th>\n",
       "      <th>POSTCODE</th>\n",
       "      <th>blood_group</th>\n",
       "      <th>eye_color</th>\n",
       "      <th>job</th>\n",
       "    </tr>\n",
       "  </thead>\n",
       "  <tbody>\n",
       "    <tr>\n",
       "      <th>count</th>\n",
       "      <td>38462.000000</td>\n",
       "      <td>38462.000000</td>\n",
       "      <td>38462.000000</td>\n",
       "      <td>38462.000000</td>\n",
       "      <td>38462.000000</td>\n",
       "      <td>38462.000000</td>\n",
       "    </tr>\n",
       "    <tr>\n",
       "      <th>mean</th>\n",
       "      <td>0.498328</td>\n",
       "      <td>0.977707</td>\n",
       "      <td>0.846887</td>\n",
       "      <td>0.869045</td>\n",
       "      <td>0.795840</td>\n",
       "      <td>0.966596</td>\n",
       "    </tr>\n",
       "    <tr>\n",
       "      <th>std</th>\n",
       "      <td>0.028408</td>\n",
       "      <td>0.086362</td>\n",
       "      <td>0.307341</td>\n",
       "      <td>0.056100</td>\n",
       "      <td>0.045859</td>\n",
       "      <td>0.074689</td>\n",
       "    </tr>\n",
       "    <tr>\n",
       "      <th>min</th>\n",
       "      <td>0.017524</td>\n",
       "      <td>0.133263</td>\n",
       "      <td>0.049805</td>\n",
       "      <td>0.073070</td>\n",
       "      <td>0.131810</td>\n",
       "      <td>0.331747</td>\n",
       "    </tr>\n",
       "    <tr>\n",
       "      <th>25%</th>\n",
       "      <td>0.482476</td>\n",
       "      <td>0.990952</td>\n",
       "      <td>0.996880</td>\n",
       "      <td>0.873252</td>\n",
       "      <td>0.798502</td>\n",
       "      <td>0.998414</td>\n",
       "    </tr>\n",
       "    <tr>\n",
       "      <th>50%</th>\n",
       "      <td>0.482476</td>\n",
       "      <td>0.991394</td>\n",
       "      <td>0.997660</td>\n",
       "      <td>0.874682</td>\n",
       "      <td>0.800348</td>\n",
       "      <td>0.998648</td>\n",
       "    </tr>\n",
       "    <tr>\n",
       "      <th>75%</th>\n",
       "      <td>0.517524</td>\n",
       "      <td>0.991654</td>\n",
       "      <td>0.999740</td>\n",
       "      <td>0.876007</td>\n",
       "      <td>0.801232</td>\n",
       "      <td>0.998804</td>\n",
       "    </tr>\n",
       "    <tr>\n",
       "      <th>max</th>\n",
       "      <td>0.517524</td>\n",
       "      <td>0.999740</td>\n",
       "      <td>0.999974</td>\n",
       "      <td>0.877047</td>\n",
       "      <td>0.801440</td>\n",
       "      <td>0.999402</td>\n",
       "    </tr>\n",
       "  </tbody>\n",
       "</table>\n",
       "</div>"
      ],
      "text/plain": [
       "             gender           AGE      POSTCODE   blood_group     eye_color  \\\n",
       "count  38462.000000  38462.000000  38462.000000  38462.000000  38462.000000   \n",
       "mean       0.498328      0.977707      0.846887      0.869045      0.795840   \n",
       "std        0.028408      0.086362      0.307341      0.056100      0.045859   \n",
       "min        0.017524      0.133263      0.049805      0.073070      0.131810   \n",
       "25%        0.482476      0.990952      0.996880      0.873252      0.798502   \n",
       "50%        0.482476      0.991394      0.997660      0.874682      0.800348   \n",
       "75%        0.517524      0.991654      0.999740      0.876007      0.801232   \n",
       "max        0.517524      0.999740      0.999974      0.877047      0.801440   \n",
       "\n",
       "                job  \n",
       "count  38462.000000  \n",
       "mean       0.966596  \n",
       "std        0.074689  \n",
       "min        0.331747  \n",
       "25%        0.998414  \n",
       "50%        0.998648  \n",
       "75%        0.998804  \n",
       "max        0.999402  "
      ]
     },
     "execution_count": 31,
     "metadata": {},
     "output_type": "execute_result"
    }
   ],
   "source": [
    "csfs = pif.compute_csfs(df)\n",
    "csfs.describe()"
   ]
  },
  {
   "cell_type": "code",
   "execution_count": 32,
   "metadata": {},
   "outputs": [
    {
     "data": {
      "text/plain": [
       "<AxesSubplot: >"
      ]
     },
     "execution_count": 32,
     "metadata": {},
     "output_type": "execute_result"
    },
    {
     "data": {
      "image/png": "[encoded data removed]",
      "text/plain": [
       "<Figure size 432x288 with 2 Axes>"
      ]
     },
     "metadata": {
      "needs_background": "light"
     },
     "output_type": "display_data"
    }
   ],
   "source": [
    "color_map = colors.ListedColormap(\n",
    "    sns.color_palette('RdYlGn', 256).as_hex()[::-1]\n",
    ")\n",
    "\n",
    "sns.heatmap(csfs, cmap = color_map)"
   ]
  },
  {
   "cell_type": "markdown",
   "metadata": {},
   "source": [
    "Following the PIF tutorial, we remove POSTCODE and Job to try to reduce the numbers:\n",
    "\n"
   ]
  },
  {
   "cell_type": "code",
   "execution_count": 33,
   "metadata": {},
   "outputs": [
    {
     "data": {
      "text/html": [
       "<div>\n",
       "<style scoped>\n",
       "    .dataframe tbody tr th:only-of-type {\n",
       "        vertical-align: middle;\n",
       "    }\n",
       "\n",
       "    .dataframe tbody tr th {\n",
       "        vertical-align: top;\n",
       "    }\n",
       "\n",
       "    .dataframe thead th {\n",
       "        text-align: right;\n",
       "    }\n",
       "</style>\n",
       "<table border=\"1\" class=\"dataframe\">\n",
       "  <thead>\n",
       "    <tr style=\"text-align: right;\">\n",
       "      <th></th>\n",
       "      <th>gender</th>\n",
       "      <th>AGE</th>\n",
       "      <th>blood_group</th>\n",
       "      <th>eye_color</th>\n",
       "    </tr>\n",
       "  </thead>\n",
       "  <tbody>\n",
       "    <tr>\n",
       "      <th>count</th>\n",
       "      <td>38462.000000</td>\n",
       "      <td>38462.000000</td>\n",
       "      <td>38462.000000</td>\n",
       "      <td>38462.000000</td>\n",
       "    </tr>\n",
       "    <tr>\n",
       "      <th>mean</th>\n",
       "      <td>0.136386</td>\n",
       "      <td>0.003600</td>\n",
       "      <td>0.048995</td>\n",
       "      <td>0.072766</td>\n",
       "    </tr>\n",
       "    <tr>\n",
       "      <th>std</th>\n",
       "      <td>0.104873</td>\n",
       "      <td>0.003025</td>\n",
       "      <td>0.041834</td>\n",
       "      <td>0.059569</td>\n",
       "    </tr>\n",
       "    <tr>\n",
       "      <th>min</th>\n",
       "      <td>0.006286</td>\n",
       "      <td>0.000001</td>\n",
       "      <td>0.000305</td>\n",
       "      <td>0.000348</td>\n",
       "    </tr>\n",
       "    <tr>\n",
       "      <th>25%</th>\n",
       "      <td>0.053905</td>\n",
       "      <td>0.001375</td>\n",
       "      <td>0.018391</td>\n",
       "      <td>0.027585</td>\n",
       "    </tr>\n",
       "    <tr>\n",
       "      <th>50%</th>\n",
       "      <td>0.117524</td>\n",
       "      <td>0.002807</td>\n",
       "      <td>0.039136</td>\n",
       "      <td>0.058666</td>\n",
       "    </tr>\n",
       "    <tr>\n",
       "      <th>75%</th>\n",
       "      <td>0.184190</td>\n",
       "      <td>0.005016</td>\n",
       "      <td>0.069355</td>\n",
       "      <td>0.103322</td>\n",
       "    </tr>\n",
       "    <tr>\n",
       "      <th>max</th>\n",
       "      <td>0.517524</td>\n",
       "      <td>0.022063</td>\n",
       "      <td>0.877047</td>\n",
       "      <td>0.801440</td>\n",
       "    </tr>\n",
       "  </tbody>\n",
       "</table>\n",
       "</div>"
      ],
      "text/plain": [
       "             gender           AGE   blood_group     eye_color\n",
       "count  38462.000000  38462.000000  38462.000000  38462.000000\n",
       "mean       0.136386      0.003600      0.048995      0.072766\n",
       "std        0.104873      0.003025      0.041834      0.059569\n",
       "min        0.006286      0.000001      0.000305      0.000348\n",
       "25%        0.053905      0.001375      0.018391      0.027585\n",
       "50%        0.117524      0.002807      0.039136      0.058666\n",
       "75%        0.184190      0.005016      0.069355      0.103322\n",
       "max        0.517524      0.022063      0.877047      0.801440"
      ]
     },
     "execution_count": 33,
     "metadata": {},
     "output_type": "execute_result"
    }
   ],
   "source": [
    "sub_df = df.drop(['POSTCODE', 'job'], axis=1)\n",
    "csfs = pif.compute_csfs(sub_df)\n",
    "csfs.describe()"
   ]
  },
  {
   "cell_type": "code",
   "execution_count": 34,
   "metadata": {},
   "outputs": [
    {
     "data": {
      "text/plain": [
       "<AxesSubplot: >"
      ]
     },
     "execution_count": 34,
     "metadata": {},
     "output_type": "execute_result"
    },
    {
     "data": {
      "image/png": "[encoded data removed]",
      "text/plain": [
       "<Figure size 432x288 with 2 Axes>"
      ]
     },
     "metadata": {
      "needs_background": "light"
     },
     "output_type": "display_data"
    }
   ],
   "source": [
    "sns.heatmap(csfs, cmap = color_map)"
   ]
  },
  {
   "cell_type": "code",
   "execution_count": 35,
   "metadata": {},
   "outputs": [
    {
     "data": {
      "text/plain": [
       "<AxesSubplot: >"
      ]
     },
     "execution_count": 35,
     "metadata": {},
     "output_type": "execute_result"
    },
    {
     "data": {
      "image/png": "[encoded data removed]",
      "text/plain": [
       "<Figure size 432x288 with 2 Axes>"
      ]
     },
     "metadata": {
      "needs_background": "light"
     },
     "output_type": "display_data"
    }
   ],
   "source": [
    "channel = {}\n",
    "prior = {}\n",
    "\n",
    "for secret in sub_df.columns:\n",
    "    pi, C = utils.channel.from_data(sub_df, secret)\n",
    "    channel[secret] = C\n",
    "    prior[secret] = pi\n",
    "\n",
    "bayes = bayes_cells(sub_df, channel, prior)\n",
    "color_map = colors.ListedColormap(\n",
    "    sns.color_palette('RdYlGn', 256).as_hex()[::-1])\n",
    "sns.heatmap(bayes, cmap = color_map)"
   ]
  },
  {
   "cell_type": "code",
   "execution_count": 36,
   "metadata": {},
   "outputs": [
    {
     "data": {
      "image/png": "[encoded data removed]",
      "text/plain": [
       "<Figure size 432x288 with 1 Axes>"
      ]
     },
     "metadata": {
      "needs_background": "light"
     },
     "output_type": "display_data"
    }
   ],
   "source": [
    "post_bayes = lambda secret: qif.measure.bayes_vuln.posterior(\n",
    "    *prepare_qif(prior[secret], channel[secret]))\n",
    "\n",
    "x = sub_df.columns\n",
    "y = [post_bayes(secret) for secret in sub_df.columns]\n",
    "\n",
    "fig, ax = plt.subplots()\n",
    "ax.bar(x, y, width = 1, edgecolor = 'white', linewidth = 0.7)\n",
    "\n",
    "plt.xticks(rotation = 45)\n",
    "plt.show()"
   ]
  },
  {
   "cell_type": "markdown",
   "metadata": {},
   "source": [
    "It does seem better. The posterior Bayes vuln. of gender is still high, but\n",
    "it&rsquo;s close to the prior (+- 0.5, since gender has only two elements), so the\n",
    "leakage is small. But, let&rsquo;s take a look at the original dataset again:\n",
    "\n"
   ]
  },
  {
   "cell_type": "code",
   "execution_count": 37,
   "metadata": {},
   "outputs": [
    {
     "data": {
      "text/html": [
       "<div>\n",
       "<style scoped>\n",
       "    .dataframe tbody tr th:only-of-type {\n",
       "        vertical-align: middle;\n",
       "    }\n",
       "\n",
       "    .dataframe tbody tr th {\n",
       "        vertical-align: top;\n",
       "    }\n",
       "\n",
       "    .dataframe thead th {\n",
       "        text-align: right;\n",
       "    }\n",
       "</style>\n",
       "<table border=\"1\" class=\"dataframe\">\n",
       "  <thead>\n",
       "    <tr style=\"text-align: right;\">\n",
       "      <th></th>\n",
       "      <th>gender</th>\n",
       "      <th>AGE</th>\n",
       "      <th>POSTCODE</th>\n",
       "      <th>blood_group</th>\n",
       "      <th>eye_color</th>\n",
       "      <th>job</th>\n",
       "    </tr>\n",
       "  </thead>\n",
       "  <tbody>\n",
       "    <tr>\n",
       "      <th>count</th>\n",
       "      <td>38462.000000</td>\n",
       "      <td>38462.000000</td>\n",
       "      <td>38462.000000</td>\n",
       "      <td>38462.000000</td>\n",
       "      <td>38462.000000</td>\n",
       "      <td>38462.000000</td>\n",
       "    </tr>\n",
       "    <tr>\n",
       "      <th>mean</th>\n",
       "      <td>0.498328</td>\n",
       "      <td>0.977707</td>\n",
       "      <td>0.846887</td>\n",
       "      <td>0.869045</td>\n",
       "      <td>0.795840</td>\n",
       "      <td>0.966596</td>\n",
       "    </tr>\n",
       "    <tr>\n",
       "      <th>std</th>\n",
       "      <td>0.028408</td>\n",
       "      <td>0.086362</td>\n",
       "      <td>0.307341</td>\n",
       "      <td>0.056100</td>\n",
       "      <td>0.045859</td>\n",
       "      <td>0.074689</td>\n",
       "    </tr>\n",
       "    <tr>\n",
       "      <th>min</th>\n",
       "      <td>0.017524</td>\n",
       "      <td>0.133263</td>\n",
       "      <td>0.049805</td>\n",
       "      <td>0.073070</td>\n",
       "      <td>0.131810</td>\n",
       "      <td>0.331747</td>\n",
       "    </tr>\n",
       "    <tr>\n",
       "      <th>25%</th>\n",
       "      <td>0.482476</td>\n",
       "      <td>0.990952</td>\n",
       "      <td>0.996880</td>\n",
       "      <td>0.873252</td>\n",
       "      <td>0.798502</td>\n",
       "      <td>0.998414</td>\n",
       "    </tr>\n",
       "    <tr>\n",
       "      <th>50%</th>\n",
       "      <td>0.482476</td>\n",
       "      <td>0.991394</td>\n",
       "      <td>0.997660</td>\n",
       "      <td>0.874682</td>\n",
       "      <td>0.800348</td>\n",
       "      <td>0.998648</td>\n",
       "    </tr>\n",
       "    <tr>\n",
       "      <th>75%</th>\n",
       "      <td>0.517524</td>\n",
       "      <td>0.991654</td>\n",
       "      <td>0.999740</td>\n",
       "      <td>0.876007</td>\n",
       "      <td>0.801232</td>\n",
       "      <td>0.998804</td>\n",
       "    </tr>\n",
       "    <tr>\n",
       "      <th>max</th>\n",
       "      <td>0.517524</td>\n",
       "      <td>0.999740</td>\n",
       "      <td>0.999974</td>\n",
       "      <td>0.877047</td>\n",
       "      <td>0.801440</td>\n",
       "      <td>0.999402</td>\n",
       "    </tr>\n",
       "  </tbody>\n",
       "</table>\n",
       "</div>"
      ],
      "text/plain": [
       "             gender           AGE      POSTCODE   blood_group     eye_color  \\\n",
       "count  38462.000000  38462.000000  38462.000000  38462.000000  38462.000000   \n",
       "mean       0.498328      0.977707      0.846887      0.869045      0.795840   \n",
       "std        0.028408      0.086362      0.307341      0.056100      0.045859   \n",
       "min        0.017524      0.133263      0.049805      0.073070      0.131810   \n",
       "25%        0.482476      0.990952      0.996880      0.873252      0.798502   \n",
       "50%        0.482476      0.991394      0.997660      0.874682      0.800348   \n",
       "75%        0.517524      0.991654      0.999740      0.876007      0.801232   \n",
       "max        0.517524      0.999740      0.999974      0.877047      0.801440   \n",
       "\n",
       "                job  \n",
       "count  38462.000000  \n",
       "mean       0.966596  \n",
       "std        0.074689  \n",
       "min        0.331747  \n",
       "25%        0.998414  \n",
       "50%        0.998648  \n",
       "75%        0.998804  \n",
       "max        0.999402  "
      ]
     },
     "execution_count": 37,
     "metadata": {},
     "output_type": "execute_result"
    }
   ],
   "source": [
    "csfs = pif.compute_csfs(df)\n",
    "csfs.describe()"
   ]
  },
  {
   "cell_type": "markdown",
   "metadata": {},
   "source": [
    "Why exactly they decided to drop POSTCODE and job, when the feature with the\n",
    "highest average is AGE? Why not drop AGE? Let&rsquo;s give it a try:\n",
    "\n"
   ]
  },
  {
   "cell_type": "code",
   "execution_count": 38,
   "metadata": {},
   "outputs": [
    {
     "data": {
      "text/html": [
       "<div>\n",
       "<style scoped>\n",
       "    .dataframe tbody tr th:only-of-type {\n",
       "        vertical-align: middle;\n",
       "    }\n",
       "\n",
       "    .dataframe tbody tr th {\n",
       "        vertical-align: top;\n",
       "    }\n",
       "\n",
       "    .dataframe thead th {\n",
       "        text-align: right;\n",
       "    }\n",
       "</style>\n",
       "<table border=\"1\" class=\"dataframe\">\n",
       "  <thead>\n",
       "    <tr style=\"text-align: right;\">\n",
       "      <th></th>\n",
       "      <th>gender</th>\n",
       "      <th>POSTCODE</th>\n",
       "      <th>blood_group</th>\n",
       "      <th>eye_color</th>\n",
       "      <th>job</th>\n",
       "    </tr>\n",
       "  </thead>\n",
       "  <tbody>\n",
       "    <tr>\n",
       "      <th>count</th>\n",
       "      <td>38462.000000</td>\n",
       "      <td>38462.000000</td>\n",
       "      <td>38462.000000</td>\n",
       "      <td>38462.000000</td>\n",
       "      <td>38462.000000</td>\n",
       "    </tr>\n",
       "    <tr>\n",
       "      <th>mean</th>\n",
       "      <td>0.488893</td>\n",
       "      <td>0.604352</td>\n",
       "      <td>0.824001</td>\n",
       "      <td>0.764093</td>\n",
       "      <td>0.714655</td>\n",
       "    </tr>\n",
       "    <tr>\n",
       "      <th>std</th>\n",
       "      <td>0.068743</td>\n",
       "      <td>0.382611</td>\n",
       "      <td>0.169502</td>\n",
       "      <td>0.139688</td>\n",
       "      <td>0.322581</td>\n",
       "    </tr>\n",
       "    <tr>\n",
       "      <th>min</th>\n",
       "      <td>0.017524</td>\n",
       "      <td>0.000091</td>\n",
       "      <td>0.000305</td>\n",
       "      <td>0.000348</td>\n",
       "      <td>0.002479</td>\n",
       "    </tr>\n",
       "    <tr>\n",
       "      <th>25%</th>\n",
       "      <td>0.482476</td>\n",
       "      <td>0.331071</td>\n",
       "      <td>0.873252</td>\n",
       "      <td>0.798476</td>\n",
       "      <td>0.498388</td>\n",
       "    </tr>\n",
       "    <tr>\n",
       "      <th>50%</th>\n",
       "      <td>0.482476</td>\n",
       "      <td>0.499818</td>\n",
       "      <td>0.874682</td>\n",
       "      <td>0.800348</td>\n",
       "      <td>0.835812</td>\n",
       "    </tr>\n",
       "    <tr>\n",
       "      <th>75%</th>\n",
       "      <td>0.517524</td>\n",
       "      <td>0.997738</td>\n",
       "      <td>0.876007</td>\n",
       "      <td>0.801232</td>\n",
       "      <td>0.998700</td>\n",
       "    </tr>\n",
       "    <tr>\n",
       "      <th>max</th>\n",
       "      <td>0.517524</td>\n",
       "      <td>0.999974</td>\n",
       "      <td>0.877047</td>\n",
       "      <td>0.801440</td>\n",
       "      <td>0.999402</td>\n",
       "    </tr>\n",
       "  </tbody>\n",
       "</table>\n",
       "</div>"
      ],
      "text/plain": [
       "             gender      POSTCODE   blood_group     eye_color           job\n",
       "count  38462.000000  38462.000000  38462.000000  38462.000000  38462.000000\n",
       "mean       0.488893      0.604352      0.824001      0.764093      0.714655\n",
       "std        0.068743      0.382611      0.169502      0.139688      0.322581\n",
       "min        0.017524      0.000091      0.000305      0.000348      0.002479\n",
       "25%        0.482476      0.331071      0.873252      0.798476      0.498388\n",
       "50%        0.482476      0.499818      0.874682      0.800348      0.835812\n",
       "75%        0.517524      0.997738      0.876007      0.801232      0.998700\n",
       "max        0.517524      0.999974      0.877047      0.801440      0.999402"
      ]
     },
     "execution_count": 38,
     "metadata": {},
     "output_type": "execute_result"
    }
   ],
   "source": [
    "sub_df = df.drop(['AGE'], axis=1)\n",
    "csfs = pif.compute_csfs(sub_df)\n",
    "csfs.describe()"
   ]
  },
  {
   "cell_type": "code",
   "execution_count": 39,
   "metadata": {},
   "outputs": [
    {
     "data": {
      "text/plain": [
       "<AxesSubplot: >"
      ]
     },
     "execution_count": 39,
     "metadata": {},
     "output_type": "execute_result"
    },
    {
     "data": {
      "image/png": "[encoded data removed]",
      "text/plain": [
       "<Figure size 432x288 with 2 Axes>"
      ]
     },
     "metadata": {
      "needs_background": "light"
     },
     "output_type": "display_data"
    }
   ],
   "source": [
    "sns.heatmap(csfs, cmap = color_map)"
   ]
  },
  {
   "cell_type": "markdown",
   "metadata": {},
   "source": [
    "It didn&rsquo;t help that much, so what&rsquo;s the logic behind the decision of dropping POSTCODE and job?\n",
    "The result looks better in the first approach, but the first approach goes against the CSF numbers.\n",
    "\n"
   ]
  },
  {
   "cell_type": "code",
   "execution_count": 40,
   "metadata": {},
   "outputs": [
    {
     "data": {
      "text/plain": [
       "<AxesSubplot: >"
      ]
     },
     "execution_count": 40,
     "metadata": {},
     "output_type": "execute_result"
    },
    {
     "data": {
      "image/png": "[encoded data removed]",
      "text/plain": [
       "<Figure size 432x288 with 2 Axes>"
      ]
     },
     "metadata": {
      "needs_background": "light"
     },
     "output_type": "display_data"
    }
   ],
   "source": [
    "channel = {}\n",
    "prior = {}\n",
    "\n",
    "for secret in sub_df.columns:\n",
    "    pi, C = utils.channel.from_data(sub_df, secret)\n",
    "    channel[secret] = C\n",
    "    prior[secret] = pi\n",
    "\n",
    "bayes = bayes_cells(sub_df, channel, prior)\n",
    "color_map = colors.ListedColormap(\n",
    "    sns.color_palette('RdYlGn', 256).as_hex()[::-1]\n",
    ")\n",
    "sns.heatmap(bayes, cmap = color_map)"
   ]
  },
  {
   "cell_type": "code",
   "execution_count": 41,
   "metadata": {},
   "outputs": [
    {
     "data": {
      "image/png": "[encoded data removed]",
      "text/plain": [
       "<Figure size 432x288 with 1 Axes>"
      ]
     },
     "metadata": {
      "needs_background": "light"
     },
     "output_type": "display_data"
    }
   ],
   "source": [
    "post_bayes = lambda secret: qif.measure.bayes_vuln.posterior(\n",
    "    *prepare_qif(prior[secret], channel[secret]))\n",
    "\n",
    "x = sub_df.columns\n",
    "y = [post_bayes(secret) for secret in sub_df.columns]\n",
    "\n",
    "fig, ax = plt.subplots()\n",
    "ax.bar(x, y, width = 1, edgecolor = 'white', linewidth = 0.7)\n",
    "\n",
    "plt.xticks(rotation = 45)\n",
    "plt.show()"
   ]
  },
  {
   "cell_type": "code",
   "execution_count": 42,
   "metadata": {},
   "outputs": [
    {
     "data": {
      "image/png": "[encoded data removed]",
      "text/plain": [
       "<Figure size 432x288 with 1 Axes>"
      ]
     },
     "metadata": {
      "needs_background": "light"
     },
     "output_type": "display_data"
    }
   ],
   "source": [
    "mult_bayes = lambda secret: qif.measure.bayes_vuln.mult_leakage(\n",
    "    *prepare_qif(prior[secret], channel[secret]))\n",
    "\n",
    "y = [mult_bayes(secret) for secret in sub_df.columns]\n",
    "\n",
    "fig, ax = plt.subplots()\n",
    "ax.bar(x, y, width = 1, edgecolor = 'white', linewidth = 0.7)\n",
    "\n",
    "plt.xticks(rotation = 45)\n",
    "plt.show()"
   ]
  },
  {
   "cell_type": "markdown",
   "metadata": {},
   "source": [
    "We dropped AGE, since that&rsquo;s what intuitively the CSF numbers suggested, but\n",
    "we can still (virtually) always infer gender, blood<sub>group</sub> and eye<sub>color</sub> correctly.\n",
    "\n",
    "Let&rsquo;s try AGE and Job:\n",
    "\n"
   ]
  },
  {
   "cell_type": "code",
   "execution_count": 43,
   "metadata": {},
   "outputs": [
    {
     "data": {
      "text/html": [
       "<div>\n",
       "<style scoped>\n",
       "    .dataframe tbody tr th:only-of-type {\n",
       "        vertical-align: middle;\n",
       "    }\n",
       "\n",
       "    .dataframe tbody tr th {\n",
       "        vertical-align: top;\n",
       "    }\n",
       "\n",
       "    .dataframe thead th {\n",
       "        text-align: right;\n",
       "    }\n",
       "</style>\n",
       "<table border=\"1\" class=\"dataframe\">\n",
       "  <thead>\n",
       "    <tr style=\"text-align: right;\">\n",
       "      <th></th>\n",
       "      <th>gender</th>\n",
       "      <th>POSTCODE</th>\n",
       "      <th>blood_group</th>\n",
       "      <th>eye_color</th>\n",
       "    </tr>\n",
       "  </thead>\n",
       "  <tbody>\n",
       "    <tr>\n",
       "      <th>count</th>\n",
       "      <td>38462.000000</td>\n",
       "      <td>3.846200e+04</td>\n",
       "      <td>38462.000000</td>\n",
       "      <td>38462.000000</td>\n",
       "    </tr>\n",
       "    <tr>\n",
       "      <th>mean</th>\n",
       "      <td>0.342517</td>\n",
       "      <td>2.346209e-03</td>\n",
       "      <td>0.368705</td>\n",
       "      <td>0.392774</td>\n",
       "    </tr>\n",
       "    <tr>\n",
       "      <th>std</th>\n",
       "      <td>0.196529</td>\n",
       "      <td>2.005173e-03</td>\n",
       "      <td>0.350299</td>\n",
       "      <td>0.323548</td>\n",
       "    </tr>\n",
       "    <tr>\n",
       "      <th>min</th>\n",
       "      <td>0.000995</td>\n",
       "      <td>2.217457e-07</td>\n",
       "      <td>0.000305</td>\n",
       "      <td>0.000348</td>\n",
       "    </tr>\n",
       "    <tr>\n",
       "      <th>25%</th>\n",
       "      <td>0.149143</td>\n",
       "      <td>1.611919e-03</td>\n",
       "      <td>0.057826</td>\n",
       "      <td>0.086947</td>\n",
       "    </tr>\n",
       "    <tr>\n",
       "      <th>50%</th>\n",
       "      <td>0.482476</td>\n",
       "      <td>1.918495e-03</td>\n",
       "      <td>0.208639</td>\n",
       "      <td>0.298502</td>\n",
       "    </tr>\n",
       "    <tr>\n",
       "      <th>75%</th>\n",
       "      <td>0.517524</td>\n",
       "      <td>2.236444e-03</td>\n",
       "      <td>0.873252</td>\n",
       "      <td>0.798502</td>\n",
       "    </tr>\n",
       "    <tr>\n",
       "      <th>max</th>\n",
       "      <td>0.517524</td>\n",
       "      <td>2.517782e-02</td>\n",
       "      <td>0.877047</td>\n",
       "      <td>0.801440</td>\n",
       "    </tr>\n",
       "  </tbody>\n",
       "</table>\n",
       "</div>"
      ],
      "text/plain": [
       "             gender      POSTCODE   blood_group     eye_color\n",
       "count  38462.000000  3.846200e+04  38462.000000  38462.000000\n",
       "mean       0.342517  2.346209e-03      0.368705      0.392774\n",
       "std        0.196529  2.005173e-03      0.350299      0.323548\n",
       "min        0.000995  2.217457e-07      0.000305      0.000348\n",
       "25%        0.149143  1.611919e-03      0.057826      0.086947\n",
       "50%        0.482476  1.918495e-03      0.208639      0.298502\n",
       "75%        0.517524  2.236444e-03      0.873252      0.798502\n",
       "max        0.517524  2.517782e-02      0.877047      0.801440"
      ]
     },
     "execution_count": 43,
     "metadata": {},
     "output_type": "execute_result"
    }
   ],
   "source": [
    "sub_df = df.drop(['AGE', 'job'], axis=1)\n",
    "csfs = pif.compute_csfs(sub_df)\n",
    "csfs.describe()"
   ]
  },
  {
   "cell_type": "code",
   "execution_count": 44,
   "metadata": {},
   "outputs": [
    {
     "data": {
      "text/plain": [
       "<AxesSubplot: >"
      ]
     },
     "execution_count": 44,
     "metadata": {},
     "output_type": "execute_result"
    },
    {
     "data": {
      "image/png": "[encoded data removed]",
      "text/plain": [
       "<Figure size 432x288 with 2 Axes>"
      ]
     },
     "metadata": {
      "needs_background": "light"
     },
     "output_type": "display_data"
    }
   ],
   "source": [
    "sns.heatmap(csfs, cmap = color_map)"
   ]
  },
  {
   "cell_type": "code",
   "execution_count": 45,
   "metadata": {},
   "outputs": [
    {
     "data": {
      "text/plain": [
       "<AxesSubplot: >"
      ]
     },
     "execution_count": 45,
     "metadata": {},
     "output_type": "execute_result"
    },
    {
     "data": {
      "image/png": "[encoded data removed]",
      "text/plain": [
       "<Figure size 432x288 with 2 Axes>"
      ]
     },
     "metadata": {
      "needs_background": "light"
     },
     "output_type": "display_data"
    }
   ],
   "source": [
    "channel = {}\n",
    "prior = {}\n",
    "\n",
    "for secret in sub_df.columns:\n",
    "    pi, C = utils.channel.from_data(sub_df, secret)\n",
    "    channel[secret] = C\n",
    "    prior[secret] = pi\n",
    "\n",
    "bayes = bayes_cells(sub_df, channel, prior)\n",
    "color_map = colors.ListedColormap(\n",
    "    sns.color_palette('RdYlGn', 256).as_hex()[::-1]\n",
    ")\n",
    "sns.heatmap(bayes, cmap = color_map)"
   ]
  },
  {
   "cell_type": "code",
   "execution_count": 46,
   "metadata": {},
   "outputs": [
    {
     "data": {
      "image/png": "[encoded data removed]",
      "text/plain": [
       "<Figure size 432x288 with 1 Axes>"
      ]
     },
     "metadata": {
      "needs_background": "light"
     },
     "output_type": "display_data"
    }
   ],
   "source": [
    "post_bayes = lambda secret: qif.measure.bayes_vuln.posterior(\n",
    "    *prepare_qif(prior[secret], channel[secret]))\n",
    "\n",
    "x = sub_df.columns\n",
    "y = [post_bayes(secret) for secret in sub_df.columns]\n",
    "\n",
    "fig, ax = plt.subplots()\n",
    "ax.bar(x, y, width = 1, edgecolor = 'white', linewidth = 0.7)\n",
    "\n",
    "plt.xticks(rotation = 45)\n",
    "plt.show()"
   ]
  },
  {
   "cell_type": "code",
   "execution_count": 47,
   "metadata": {},
   "outputs": [
    {
     "data": {
      "image/png": "[encoded data removed]",
      "text/plain": [
       "<Figure size 432x288 with 1 Axes>"
      ]
     },
     "metadata": {
      "needs_background": "light"
     },
     "output_type": "display_data"
    }
   ],
   "source": [
    "mult_bayes = lambda secret: qif.measure.bayes_vuln.mult_leakage(\n",
    "    *prepare_qif(prior[secret], channel[secret]))\n",
    "\n",
    "y = [mult_bayes(secret) for secret in sub_df.columns]\n",
    "\n",
    "fig, ax = plt.subplots()\n",
    "ax.bar(x, y, width = 1, edgecolor = 'white', linewidth = 0.7)\n",
    "\n",
    "plt.xticks(rotation = 45)\n",
    "plt.show()"
   ]
  },
  {
   "cell_type": "markdown",
   "metadata": {},
   "source": [
    "Once again, it did help, but not as much as dropping POSTCODE and Job. Why is that?\n",
    "\n",
    "Also, CSF measures the absolute change in probability for each element of the\n",
    "secret. Couldn&rsquo;t the change be negative, thus indicating that the risk reduced?\n",
    "\n",
    "We know that Bayes vuln. can also decrease when we look at the inners individually\n",
    "(dynamic view), but posterior Bayes vuln. can never decrease. What would be the\n",
    "&rsquo;posterior&rsquo; version of CSF? How to combine the CSFs? Would that help?\n",
    "\n",
    "Furthermore, it could be that the probability of an element decreases and the corresponding\n",
    "CSF is the same of a cel whose element&rsquo;s probability increased. What does that mean?\n",
    "The individual whose cell&rsquo;s probability decreased is at the same risk as the one whose\n",
    "cell&rsquo;s probability increased???\n",
    "\n",
    "Let&rsquo;s see an example. Consider the following dataset:\n",
    "\n"
   ]
  },
  {
   "cell_type": "code",
   "execution_count": 48,
   "metadata": {},
   "outputs": [
    {
     "data": {
      "text/html": [
       "<div>\n",
       "<style scoped>\n",
       "    .dataframe tbody tr th:only-of-type {\n",
       "        vertical-align: middle;\n",
       "    }\n",
       "\n",
       "    .dataframe tbody tr th {\n",
       "        vertical-align: top;\n",
       "    }\n",
       "\n",
       "    .dataframe thead th {\n",
       "        text-align: right;\n",
       "    }\n",
       "</style>\n",
       "<table border=\"1\" class=\"dataframe\">\n",
       "  <thead>\n",
       "    <tr style=\"text-align: right;\">\n",
       "      <th></th>\n",
       "      <th>A</th>\n",
       "      <th>B</th>\n",
       "    </tr>\n",
       "  </thead>\n",
       "  <tbody>\n",
       "    <tr>\n",
       "      <th>0</th>\n",
       "      <td>a1</td>\n",
       "      <td>b1</td>\n",
       "    </tr>\n",
       "    <tr>\n",
       "      <th>1</th>\n",
       "      <td>a1</td>\n",
       "      <td>b1</td>\n",
       "    </tr>\n",
       "    <tr>\n",
       "      <th>2</th>\n",
       "      <td>a1</td>\n",
       "      <td>b1</td>\n",
       "    </tr>\n",
       "    <tr>\n",
       "      <th>3</th>\n",
       "      <td>a1</td>\n",
       "      <td>b2</td>\n",
       "    </tr>\n",
       "    <tr>\n",
       "      <th>4</th>\n",
       "      <td>a2</td>\n",
       "      <td>b2</td>\n",
       "    </tr>\n",
       "    <tr>\n",
       "      <th>5</th>\n",
       "      <td>a2</td>\n",
       "      <td>b2</td>\n",
       "    </tr>\n",
       "    <tr>\n",
       "      <th>6</th>\n",
       "      <td>a2</td>\n",
       "      <td>b2</td>\n",
       "    </tr>\n",
       "    <tr>\n",
       "      <th>7</th>\n",
       "      <td>a2</td>\n",
       "      <td>b1</td>\n",
       "    </tr>\n",
       "  </tbody>\n",
       "</table>\n",
       "</div>"
      ],
      "text/plain": [
       "    A   B\n",
       "0  a1  b1\n",
       "1  a1  b1\n",
       "2  a1  b1\n",
       "3  a1  b2\n",
       "4  a2  b2\n",
       "5  a2  b2\n",
       "6  a2  b2\n",
       "7  a2  b1"
      ]
     },
     "execution_count": 48,
     "metadata": {},
     "output_type": "execute_result"
    }
   ],
   "source": [
    "df_ab = pd.DataFrame({\n",
    "    'A': ['a1'] * 4 + ['a2'] * 4,\n",
    "    'B': ['b1'] * 3 + ['b2'] * 4 + ['b1']\n",
    "})\n",
    "\n",
    "df_ab"
   ]
  },
  {
   "cell_type": "markdown",
   "metadata": {},
   "source": [
    "The cell surprise factors are exactly the same for every cell:\n",
    "\n"
   ]
  },
  {
   "cell_type": "code",
   "execution_count": 49,
   "metadata": {},
   "outputs": [
    {
     "data": {
      "text/html": [
       "<div>\n",
       "<style scoped>\n",
       "    .dataframe tbody tr th:only-of-type {\n",
       "        vertical-align: middle;\n",
       "    }\n",
       "\n",
       "    .dataframe tbody tr th {\n",
       "        vertical-align: top;\n",
       "    }\n",
       "\n",
       "    .dataframe thead th {\n",
       "        text-align: right;\n",
       "    }\n",
       "</style>\n",
       "<table border=\"1\" class=\"dataframe\">\n",
       "  <thead>\n",
       "    <tr style=\"text-align: right;\">\n",
       "      <th></th>\n",
       "      <th>A</th>\n",
       "      <th>B</th>\n",
       "    </tr>\n",
       "  </thead>\n",
       "  <tbody>\n",
       "    <tr>\n",
       "      <th>0</th>\n",
       "      <td>0.25</td>\n",
       "      <td>0.25</td>\n",
       "    </tr>\n",
       "    <tr>\n",
       "      <th>1</th>\n",
       "      <td>0.25</td>\n",
       "      <td>0.25</td>\n",
       "    </tr>\n",
       "    <tr>\n",
       "      <th>2</th>\n",
       "      <td>0.25</td>\n",
       "      <td>0.25</td>\n",
       "    </tr>\n",
       "    <tr>\n",
       "      <th>3</th>\n",
       "      <td>0.25</td>\n",
       "      <td>0.25</td>\n",
       "    </tr>\n",
       "    <tr>\n",
       "      <th>4</th>\n",
       "      <td>0.25</td>\n",
       "      <td>0.25</td>\n",
       "    </tr>\n",
       "    <tr>\n",
       "      <th>5</th>\n",
       "      <td>0.25</td>\n",
       "      <td>0.25</td>\n",
       "    </tr>\n",
       "    <tr>\n",
       "      <th>6</th>\n",
       "      <td>0.25</td>\n",
       "      <td>0.25</td>\n",
       "    </tr>\n",
       "    <tr>\n",
       "      <th>7</th>\n",
       "      <td>0.25</td>\n",
       "      <td>0.25</td>\n",
       "    </tr>\n",
       "  </tbody>\n",
       "</table>\n",
       "</div>"
      ],
      "text/plain": [
       "      A     B\n",
       "0  0.25  0.25\n",
       "1  0.25  0.25\n",
       "2  0.25  0.25\n",
       "3  0.25  0.25\n",
       "4  0.25  0.25\n",
       "5  0.25  0.25\n",
       "6  0.25  0.25\n",
       "7  0.25  0.25"
      ]
     },
     "execution_count": 49,
     "metadata": {},
     "output_type": "execute_result"
    }
   ],
   "source": [
    "csfs_ab = pif.compute_csfs(df_ab)\n",
    "csfs_ab"
   ]
  },
  {
   "cell_type": "markdown",
   "metadata": {},
   "source": [
    "Let A be the sensitive attribute and B the QID known by the adversary.\n",
    "Then, we have the follwoing prior and channel:\n",
    "\n"
   ]
  },
  {
   "cell_type": "code",
   "execution_count": 50,
   "metadata": {},
   "outputs": [
    {
     "data": {
      "text/plain": [
       "{'a1': 0.5, 'a2': 0.5}"
      ]
     },
     "execution_count": 50,
     "metadata": {},
     "output_type": "execute_result"
    }
   ],
   "source": [
    "pi, C = utils.channel.from_data(df_ab, 'A')\n",
    "pi"
   ]
  },
  {
   "cell_type": "code",
   "execution_count": 51,
   "metadata": {},
   "outputs": [
    {
     "data": {
      "text/html": [
       "<div>\n",
       "<style scoped>\n",
       "    .dataframe tbody tr th:only-of-type {\n",
       "        vertical-align: middle;\n",
       "    }\n",
       "\n",
       "    .dataframe tbody tr th {\n",
       "        vertical-align: top;\n",
       "    }\n",
       "\n",
       "    .dataframe thead tr th {\n",
       "        text-align: left;\n",
       "    }\n",
       "</style>\n",
       "<table border=\"1\" class=\"dataframe\">\n",
       "  <thead>\n",
       "    <tr>\n",
       "      <th></th>\n",
       "      <th>b1</th>\n",
       "      <th>b2</th>\n",
       "    </tr>\n",
       "  </thead>\n",
       "  <tbody>\n",
       "    <tr>\n",
       "      <th>a1</th>\n",
       "      <td>0.75</td>\n",
       "      <td>0.25</td>\n",
       "    </tr>\n",
       "    <tr>\n",
       "      <th>a2</th>\n",
       "      <td>0.25</td>\n",
       "      <td>0.75</td>\n",
       "    </tr>\n",
       "  </tbody>\n",
       "</table>\n",
       "</div>"
      ],
      "text/plain": [
       "      b1    b2\n",
       "a1  0.75  0.25\n",
       "a2  0.25  0.75"
      ]
     },
     "execution_count": 51,
     "metadata": {},
     "output_type": "execute_result"
    }
   ],
   "source": [
    "C"
   ]
  },
  {
   "cell_type": "markdown",
   "metadata": {},
   "source": [
    "and the hyper-distribution (which, coincidentally, is exact the same as the channel):\n",
    "\n"
   ]
  },
  {
   "cell_type": "code",
   "execution_count": 52,
   "metadata": {},
   "outputs": [
    {
     "data": {
      "text/html": [
       "<div>\n",
       "<style scoped>\n",
       "    .dataframe tbody tr th:only-of-type {\n",
       "        vertical-align: middle;\n",
       "    }\n",
       "\n",
       "    .dataframe tbody tr th {\n",
       "        vertical-align: top;\n",
       "    }\n",
       "\n",
       "    .dataframe thead tr th {\n",
       "        text-align: left;\n",
       "    }\n",
       "</style>\n",
       "<table border=\"1\" class=\"dataframe\">\n",
       "  <thead>\n",
       "    <tr>\n",
       "      <th></th>\n",
       "      <th>b1</th>\n",
       "      <th>b2</th>\n",
       "    </tr>\n",
       "  </thead>\n",
       "  <tbody>\n",
       "    <tr>\n",
       "      <th>a1</th>\n",
       "      <td>0.75</td>\n",
       "      <td>0.25</td>\n",
       "    </tr>\n",
       "    <tr>\n",
       "      <th>a2</th>\n",
       "      <td>0.25</td>\n",
       "      <td>0.75</td>\n",
       "    </tr>\n",
       "  </tbody>\n",
       "</table>\n",
       "</div>"
      ],
      "text/plain": [
       "      b1    b2\n",
       "a1  0.75  0.25\n",
       "a2  0.25  0.75"
      ]
     },
     "execution_count": 52,
     "metadata": {},
     "output_type": "execute_result"
    }
   ],
   "source": [
    "J = C.apply(lambda p: pi[p.name] * p, axis=1)\n",
    "Py = J.apply(np.sum, axis=0)\n",
    "hyper = J.apply(lambda p: p / Py[p.name], axis=0)\n",
    "hyper"
   ]
  },
  {
   "cell_type": "markdown",
   "metadata": {},
   "source": [
    "Here are changes in probability without taking the absolute value:\n",
    "\n"
   ]
  },
  {
   "cell_type": "code",
   "execution_count": 53,
   "metadata": {},
   "outputs": [
    {
     "data": {
      "text/html": [
       "<div>\n",
       "<style scoped>\n",
       "    .dataframe tbody tr th:only-of-type {\n",
       "        vertical-align: middle;\n",
       "    }\n",
       "\n",
       "    .dataframe tbody tr th {\n",
       "        vertical-align: top;\n",
       "    }\n",
       "\n",
       "    .dataframe thead tr th {\n",
       "        text-align: left;\n",
       "    }\n",
       "</style>\n",
       "<table border=\"1\" class=\"dataframe\">\n",
       "  <thead>\n",
       "    <tr>\n",
       "      <th></th>\n",
       "      <th>b1</th>\n",
       "      <th>b2</th>\n",
       "    </tr>\n",
       "  </thead>\n",
       "  <tbody>\n",
       "    <tr>\n",
       "      <th>a1</th>\n",
       "      <td>0.25</td>\n",
       "      <td>-0.25</td>\n",
       "    </tr>\n",
       "    <tr>\n",
       "      <th>a2</th>\n",
       "      <td>-0.25</td>\n",
       "      <td>0.25</td>\n",
       "    </tr>\n",
       "  </tbody>\n",
       "</table>\n",
       "</div>"
      ],
      "text/plain": [
       "      b1    b2\n",
       "a1  0.25 -0.25\n",
       "a2 -0.25  0.25"
      ]
     },
     "execution_count": 53,
     "metadata": {},
     "output_type": "execute_result"
    }
   ],
   "source": [
    "hyper.apply(lambda p: p - pi[p.name], axis=1)"
   ]
  },
  {
   "cell_type": "markdown",
   "metadata": {},
   "source": [
    "Notice that, at the posterior &ldquo;b1&rdquo;, the change in probability for a1 is 0.25\n",
    "and for a2 is -0.25. Yet, the corresponding cells receive the same CSF value:\n",
    "0.25. What does this mean???\n",
    "\n"
   ]
  }
 ],
 "metadata": {
  "kernelspec": {
   "display_name": "Python 3.10 - QIF",
   "language": "python",
   "name": "python3.10-qif"
  },
  "language_info": {
   "codemirror_mode": {
    "name": "ipython",
    "version": 3
   },
   "file_extension": ".py",
   "mimetype": "text/x-python",
   "name": "python",
   "nbconvert_exporter": "python",
   "pygments_lexer": "ipython3",
   "version": "3.10.6"
  },
  "org": null
 },
 "nbformat": 4,
 "nbformat_minor": 1
}
